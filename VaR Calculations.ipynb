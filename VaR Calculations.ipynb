{
 "cells": [
  {
   "cell_type": "markdown",
   "metadata": {},
   "source": [
    "## Libraries & Daily return function"
   ]
  },
  {
   "cell_type": "code",
   "execution_count": 83,
   "metadata": {
    "collapsed": true
   },
   "outputs": [],
   "source": [
    "import pandas as pd\n",
    "import numpy as np\n",
    "from scipy.stats import norm\n",
    "import math"
   ]
  },
  {
   "cell_type": "code",
   "execution_count": 84,
   "metadata": {
    "collapsed": true
   },
   "outputs": [],
   "source": [
    "stocks = pd.read_csv(\"Portfolio.csv\", index_col = \"Date\")"
   ]
  },
  {
   "cell_type": "code",
   "execution_count": 85,
   "metadata": {
    "collapsed": true
   },
   "outputs": [],
   "source": [
    "# Calculate daily returns\n",
    "def daily_returns(adjusted_cp):\n",
    "    r = (adjusted_cp / adjusted_cp.shift(1)) - 1\n",
    "    return r\n"
   ]
  },
  {
   "cell_type": "markdown",
   "metadata": {},
   "source": [
    "## Variance-Covariance Method"
   ]
  },
  {
   "cell_type": "code",
   "execution_count": 86,
   "metadata": {},
   "outputs": [
    {
     "name": "stdout",
     "output_type": "stream",
     "text": [
      "For 1 day trading interval VaR(99%) is $ -35767.0\n",
      "For 1 day trading interval VaR(95%) is $ -25073.0\n",
      "For 1 day trading interval VaR(90%) is $ -19372.0\n",
      "For 1 day trading interval CVaR(99%) is $ -41821.0\n",
      "For 1 day trading interval CVaR(95%) is $ -32367.0\n",
      "For 1 day trading interval CVaR(90%) is $ -27538.0\n"
     ]
    }
   ],
   "source": [
    "def calcuate_VaR_cov_method(portfolio, w, total_portfolio):\n",
    "    daily_return_df = portfolio.apply(daily_returns).dropna()\n",
    "    weights = np.array(w)\n",
    "    portfolio_return = (daily_return_df * weights).sum(axis = 1)\n",
    "    portfolio_mean = portfolio_return.mean()\n",
    "    weights = weights.reshape(len(w),1)\n",
    "    cov_matrix = daily_return_df.cov()\n",
    "    portfolio_sd = np.sqrt(weights.T @ cov_matrix @ weights)[0][0]\n",
    "    VaR99 = round((portfolio_mean + norm.ppf(0.01) * portfolio_sd) * total_portfolio,0)\n",
    "    VaR95 = round((portfolio_mean + norm.ppf(0.05) * portfolio_sd) * total_portfolio,0)\n",
    "    VaR90 = round((portfolio_mean + norm.ppf(0.10) * portfolio_sd) * total_portfolio,0)\n",
    "    CVaR99 = round(portfolio_mean - (portfolio_sd / (0.01))*norm.pdf(norm.ppf(0.01)) * total_portfolio,0)\n",
    "    CVaR95 = round(portfolio_mean - (portfolio_sd / (0.05))*norm.pdf(norm.ppf(0.05)) * total_portfolio,0)\n",
    "    CVaR90 = round(portfolio_mean - (portfolio_sd / (0.1))*norm.pdf(norm.ppf(0.1)) * total_portfolio,0)\n",
    "    print(\"For 1 day trading interval VaR(99%) is $\", VaR99)\n",
    "    print(\"For 1 day trading interval VaR(95%) is $\", VaR95)\n",
    "    print(\"For 1 day trading interval VaR(90%) is $\", VaR90)\n",
    "    print(\"For 1 day trading interval CVaR(99%) is $\", CVaR99)\n",
    "    print(\"For 1 day trading interval CVaR(95%) is $\", CVaR95)\n",
    "    print(\"For 1 day trading interval CVaR(90%) is $\", CVaR90)\n",
    "calcuate_VaR_cov_method(stocks, w = [0.3,0.4,0.3], total_portfolio = 1000000)    \n",
    "    "
   ]
  },
  {
   "cell_type": "markdown",
   "metadata": {},
   "source": [
    "## Historical Method"
   ]
  },
  {
   "cell_type": "code",
   "execution_count": 87,
   "metadata": {},
   "outputs": [
    {
     "name": "stdout",
     "output_type": "stream",
     "text": [
      "For 1 day trading interval VaR(99%) is $ -35630.0\n",
      "For 1 day trading interval VaR(95%) is $ -23896.0\n",
      "For 1 day trading interval VaR(90%) is $ -19206.0\n",
      "For 1 day trading interval CVaR(99%) is $ -41297.0\n",
      "For 1 day trading interval CVaR(95%) is $ -31545.0\n",
      "For 1 day trading interval CVaR(90%) is $ -26954.0\n"
     ]
    }
   ],
   "source": [
    "def calcuate_VaR_hist_method(portfolio, w, total_portfolio):\n",
    "    daily_return_df = portfolio.apply(daily_returns).dropna()\n",
    "    weights = np.array(w)\n",
    "    portfolio_return = (daily_return_df * weights).sum(axis = 1)\n",
    "    VaR99 = round(np.percentile(portfolio_return,1) * total_portfolio,0)\n",
    "    VaR95 = round(np.percentile(portfolio_return,5) * total_portfolio,0)\n",
    "    VaR90 = round(np.percentile(portfolio_return,10) * total_portfolio,0)\n",
    "    CVaR99 = round(np.mean(portfolio_return[portfolio_return < np.percentile(portfolio_return,1)]) * total_portfolio,0)\n",
    "    CVaR95 = round(np.mean(portfolio_return[portfolio_return < np.percentile(portfolio_return,5)]) * total_portfolio,0)\n",
    "    CVaR90 = round(np.mean(portfolio_return[portfolio_return < np.percentile(portfolio_return,10)]) * total_portfolio,0)\n",
    "    print(\"For 1 day trading interval VaR(99%) is $\", VaR99)\n",
    "    print(\"For 1 day trading interval VaR(95%) is $\", VaR95)\n",
    "    print(\"For 1 day trading interval VaR(90%) is $\", VaR90)\n",
    "    print(\"For 1 day trading interval CVaR(99%) is $\", CVaR99)\n",
    "    print(\"For 1 day trading interval CVaR(95%) is $\", CVaR95)\n",
    "    print(\"For 1 day trading interval CVaR(90%) is $\", CVaR90)\n",
    "    \n",
    "calcuate_VaR_hist_method(stocks, w = [0.3,0.4,0.3], total_portfolio = 1000000)"
   ]
  },
  {
   "cell_type": "markdown",
   "metadata": {},
   "source": [
    "## Monte Carlo Simulation method "
   ]
  },
  {
   "cell_type": "code",
   "execution_count": 88,
   "metadata": {
    "collapsed": true
   },
   "outputs": [],
   "source": [
    "stocks = pd.read_csv(\"Portfolio.csv\", index_col = \"Date\")\n",
    "returns = stocks.apply(daily_returns).dropna()\n",
    "mu = [0.04, 0.04, 0.04]\n",
    "w = np.array([0.30, 0.40, 0.30])\n",
    "T = 1 # 1 year\n",
    "n = 252 # 1000 cuts in 1 year\n",
    "m = 100 # num sims\n",
    "p = stocks.shape[1]\n",
    "s0 = np.array(stocks.iloc[stocks.shape[0]-1])\n",
    "sigma = np.array(returns.std())\n",
    "dt = T/n\n",
    "\n",
    "cor_returns = returns.corr()\n",
    "cov_returns = returns.cov()\n",
    "L = np.linalg.cholesky(cor_returns)\n",
    "\n",
    "simulated_data = np.empty((n+1, m))\n",
    "for i in range(m):\n",
    "    correlated_random = (L @ np.random.normal(0, 1, size = (n,p)).T).T\n",
    "    st = np.exp(\n",
    "    (mu - sigma**2 / 2) * dt + sigma * correlated_random \n",
    "    ) \n",
    "    # Each col of st is a particular stock's movement over time\n",
    "    st = np.vstack([np.ones(p), st])\n",
    "    st = s0 * st.cumprod(axis = 0)\n",
    "    portfolio = (st*w).sum(axis = 1)\n",
    "    simulated_data[:, i] = portfolio.T\n",
    "sim_list = [\"Simulation \" + str(i) for i in range (1,101)]\n",
    "simulated_portfolio_df = pd.DataFrame(simulated_data)\n",
    "simulated_portfolio_df.columns = sim_list\n",
    "simulated_portfolio_returns = simulated_portfolio_df.apply(daily_returns).dropna()"
   ]
  },
  {
   "cell_type": "code",
   "execution_count": 89,
   "metadata": {
    "collapsed": true
   },
   "outputs": [],
   "source": [
    "total_portfolio = 1000000\n",
    "var99 = [round(np.percentile(simulated_portfolio_returns.iloc[:,i],1) * total_portfolio,0) for i in range(100)]\n",
    "var95 = [round(np.percentile(simulated_portfolio_returns.iloc[:,i],5) * total_portfolio,0) for i in range(100)]\n",
    "var90 = [round(np.percentile(simulated_portfolio_returns.iloc[:,i],10) * total_portfolio,0) for i in range(100)]\n",
    "\n",
    "Cvar99 = [round(np.mean(simulated_portfolio_returns.iloc[:,i][simulated_portfolio_returns.iloc[:,i] < np.percentile(simulated_portfolio_returns.iloc[:,i],1)]) * total_portfolio,0) for i in range(100)]\n",
    "\n",
    "Cvar95 = [round(np.mean(simulated_portfolio_returns.iloc[:,i][simulated_portfolio_returns.iloc[:,i] < np.percentile(simulated_portfolio_returns.iloc[:,i],5)]) * total_portfolio,0) for i in range(100)]\n",
    "\n",
    "Cvar90 = [round(np.mean(simulated_portfolio_returns.iloc[:,i][simulated_portfolio_returns.iloc[:,i] < np.percentile(simulated_portfolio_returns.iloc[:,i],10)]) * total_portfolio,0) for i in range(100)]"
   ]
  },
  {
   "cell_type": "code",
   "execution_count": 91,
   "metadata": {},
   "outputs": [],
   "source": [
    "def summary_statistics(var):\n",
    "    return {\n",
    "        \"Mean\" : np.mean(var),\n",
    "        \"Max\" : max(var),\n",
    "        \"Min\" : min(var)\n",
    "    }"
   ]
  },
  {
   "cell_type": "code",
   "execution_count": 92,
   "metadata": {},
   "outputs": [
    {
     "data": {
      "text/plain": [
       "{'Max': -25645.0, 'Mean': -33808.83, 'Min': -39126.0}"
      ]
     },
     "execution_count": 92,
     "metadata": {},
     "output_type": "execute_result"
    }
   ],
   "source": [
    "summary_statistics(var99)"
   ]
  },
  {
   "cell_type": "code",
   "execution_count": 93,
   "metadata": {},
   "outputs": [
    {
     "data": {
      "text/plain": [
       "{'Max': -19883.0, 'Mean': -24330.87, 'Min': -29214.0}"
      ]
     },
     "execution_count": 93,
     "metadata": {},
     "output_type": "execute_result"
    }
   ],
   "source": [
    "summary_statistics(var95)"
   ]
  },
  {
   "cell_type": "code",
   "execution_count": 94,
   "metadata": {},
   "outputs": [
    {
     "data": {
      "text/plain": [
       "{'Max': -15633.0, 'Mean': -19029.02, 'Min': -23361.0}"
      ]
     },
     "execution_count": 94,
     "metadata": {},
     "output_type": "execute_result"
    }
   ],
   "source": [
    "summary_statistics(var90)"
   ]
  },
  {
   "cell_type": "code",
   "execution_count": 95,
   "metadata": {},
   "outputs": [
    {
     "data": {
      "text/plain": [
       "{'Max': -21422.0, 'Mean': -25907.74, 'Min': -29897.0}"
      ]
     },
     "execution_count": 95,
     "metadata": {},
     "output_type": "execute_result"
    }
   ],
   "source": [
    "summary_statistics(Cvar90)"
   ]
  },
  {
   "cell_type": "code",
   "execution_count": 96,
   "metadata": {},
   "outputs": [
    {
     "data": {
      "text/plain": [
       "{'Max': -25040.0, 'Mean': -30508.01, 'Min': -34784.0}"
      ]
     },
     "execution_count": 96,
     "metadata": {},
     "output_type": "execute_result"
    }
   ],
   "source": [
    "summary_statistics(Cvar95)"
   ]
  },
  {
   "cell_type": "code",
   "execution_count": 97,
   "metadata": {},
   "outputs": [
    {
     "data": {
      "text/plain": [
       "{'Max': -30330.0, 'Mean': -38537.72, 'Min': -50281.0}"
      ]
     },
     "execution_count": 97,
     "metadata": {},
     "output_type": "execute_result"
    }
   ],
   "source": [
    "summary_statistics(Cvar99)"
   ]
  },
  {
   "cell_type": "code",
   "execution_count": null,
   "metadata": {
    "collapsed": true
   },
   "outputs": [],
   "source": []
  },
  {
   "cell_type": "code",
   "execution_count": null,
   "metadata": {
    "collapsed": true
   },
   "outputs": [],
   "source": []
  }
 ],
 "metadata": {
  "kernelspec": {
   "display_name": "Python 3",
   "language": "python",
   "name": "python3"
  },
  "language_info": {
   "codemirror_mode": {
    "name": "ipython",
    "version": 3
   },
   "file_extension": ".py",
   "mimetype": "text/x-python",
   "name": "python",
   "nbconvert_exporter": "python",
   "pygments_lexer": "ipython3",
   "version": "3.5.4"
  }
 },
 "nbformat": 4,
 "nbformat_minor": 2
}
