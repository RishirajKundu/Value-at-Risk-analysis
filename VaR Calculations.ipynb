{
 "cells": [
  {
   "cell_type": "markdown",
   "metadata": {},
   "source": [
    "## Libraries & Daily return function"
   ]
  },
  {
   "cell_type": "code",
   "execution_count": 83,
   "metadata": {
    "collapsed": true
   },
   "outputs": [],
   "source": [
    "import pandas as pd\n",
    "import numpy as np\n",
    "from scipy.stats import norm\n",
    "import math"
   ]
  },
  {
   "cell_type": "code",
   "execution_count": 84,
   "metadata": {
    "collapsed": true
   },
   "outputs": [],
   "source": [
    "stocks = pd.read_csv(\"Portfolio.csv\", index_col = \"Date\")"
   ]
  },
  {
   "cell_type": "code",
   "execution_count": 85,
   "metadata": {
    "collapsed": true
   },
   "outputs": [],
   "source": [
    "# Calculate daily returns\n",
    "def daily_returns(adjusted_cp):\n",
    "    r = (adjusted_cp / adjusted_cp.shift(1)) - 1\n",
    "    return r\n"
   ]
  },
  {
   "cell_type": "markdown",
   "metadata": {},
   "source": [
    "## Variance-Covariance Method"
   ]
  },
  {
   "cell_type": "code",
   "execution_count": 86,
   "metadata": {},
   "outputs": [
    {
     "name": "stdout",
     "output_type": "stream",
     "text": [
      "For 1 day trading interval VaR(99%) is $ -35767.0\n",
      "For 1 day trading interval VaR(95%) is $ -25073.0\n",
      "For 1 day trading interval VaR(90%) is $ -19372.0\n",
      "For 1 day trading interval CVaR(99%) is $ -41821.0\n",
      "For 1 day trading interval CVaR(95%) is $ -32367.0\n",
      "For 1 day trading interval CVaR(90%) is $ -27538.0\n"
     ]
    }
   ],
   "source": [
    "def calcuate_VaR_cov_method(portfolio, w, total_portfolio):\n",
    "    daily_return_df = portfolio.apply(daily_returns).dropna()\n",
    "    weights = np.array(w)\n",
    "    portfolio_return = (daily_return_df * weights).sum(axis = 1)\n",
    "    portfolio_mean = portfolio_return.mean()\n",
    "    weights = weights.reshape(len(w),1)\n",
    "    cov_matrix = daily_return_df.cov()\n",
    "    portfolio_sd = np.sqrt(weights.T @ cov_matrix @ weights)[0][0]\n",
    "    VaR99 = round((portfolio_mean + norm.ppf(0.01) * portfolio_sd) * total_portfolio,0)\n",
    "    VaR95 = round((portfolio_mean + norm.ppf(0.05) * portfolio_sd) * total_portfolio,0)\n",
    "    VaR90 = round((portfolio_mean + norm.ppf(0.10) * portfolio_sd) * total_portfolio,0)\n",
    "    CVaR99 = round(portfolio_mean - (portfolio_sd / (0.01))*norm.pdf(norm.ppf(0.01)) * total_portfolio,0)\n",
    "    CVaR95 = round(portfolio_mean - (portfolio_sd / (0.05))*norm.pdf(norm.ppf(0.05)) * total_portfolio,0)\n",
    "    CVaR90 = round(portfolio_mean - (portfolio_sd / (0.1))*norm.pdf(norm.ppf(0.1)) * total_portfolio,0)\n",
    "    print(\"For 1 day trading interval VaR(99%) is $\", VaR99)\n",
    "    print(\"For 1 day trading interval VaR(95%) is $\", VaR95)\n",
    "    print(\"For 1 day trading interval VaR(90%) is $\", VaR90)\n",
    "    print(\"For 1 day trading interval CVaR(99%) is $\", CVaR99)\n",
    "    print(\"For 1 day trading interval CVaR(95%) is $\", CVaR95)\n",
    "    print(\"For 1 day trading interval CVaR(90%) is $\", CVaR90)\n",
    "calcuate_VaR_cov_method(stocks, w = [0.3,0.4,0.3], total_portfolio = 1000000)    \n",
    "    "
   ]
  },
  {
   "cell_type": "markdown",
   "metadata": {},
   "source": [
    "## Historical Method"
   ]
  },
  {
   "cell_type": "code",
   "execution_count": 87,
   "metadata": {},
   "outputs": [
    {
     "name": "stdout",
     "output_type": "stream",
     "text": [
      "For 1 day trading interval VaR(99%) is $ -35630.0\n",
      "For 1 day trading interval VaR(95%) is $ -23896.0\n",
      "For 1 day trading interval VaR(90%) is $ -19206.0\n",
      "For 1 day trading interval CVaR(99%) is $ -41297.0\n",
      "For 1 day trading interval CVaR(95%) is $ -31545.0\n",
      "For 1 day trading interval CVaR(90%) is $ -26954.0\n"
     ]
    }
   ],
   "source": [
    "def calcuate_VaR_hist_method(portfolio, w, total_portfolio):\n",
    "    daily_return_df = portfolio.apply(daily_returns).dropna()\n",
    "    weights = np.array(w)\n",
    "    portfolio_return = (daily_return_df * weights).sum(axis = 1)\n",
    "    VaR99 = round(np.percentile(portfolio_return,1) * total_portfolio,0)\n",
    "    VaR95 = round(np.percentile(portfolio_return,5) * total_portfolio,0)\n",
    "    VaR90 = round(np.percentile(portfolio_return,10) * total_portfolio,0)\n",
    "    CVaR99 = round(np.mean(portfolio_return[portfolio_return < np.percentile(portfolio_return,1)]) * total_portfolio,0)\n",
    "    CVaR95 = round(np.mean(portfolio_return[portfolio_return < np.percentile(portfolio_return,5)]) * total_portfolio,0)\n",
    "    CVaR90 = round(np.mean(portfolio_return[portfolio_return < np.percentile(portfolio_return,10)]) * total_portfolio,0)\n",
    "    print(\"For 1 day trading interval VaR(99%) is $\", VaR99)\n",
    "    print(\"For 1 day trading interval VaR(95%) is $\", VaR95)\n",
    "    print(\"For 1 day trading interval VaR(90%) is $\", VaR90)\n",
    "    print(\"For 1 day trading interval CVaR(99%) is $\", CVaR99)\n",
    "    print(\"For 1 day trading interval CVaR(95%) is $\", CVaR95)\n",
    "    print(\"For 1 day trading interval CVaR(90%) is $\", CVaR90)\n",
    "    \n",
    "calcuate_VaR_hist_method(stocks, w = [0.3,0.4,0.3], total_portfolio = 1000000)"
   ]
  },
  {
   "cell_type": "markdown",
   "metadata": {},
   "source": [
    "## Monte Carlo Simulation method "
   ]
  },
  {
   "cell_type": "markdown",
   "metadata": {},
   "source": [
    "$ R_t \\sim MVN(\\mu, \\Sigma)$  \n",
    "Cholesky decomposition  \n",
    "$LL' = \\Sigma$  \n",
    "$R_t = \\mu + LZ^{T}$  \n",
    "$Z \\sim N(0,I)$ (I is Indentity Matrix)\n"
   ]
  },
  {
   "cell_type": "code",
   "execution_count": 120,
   "metadata": {},
   "outputs": [],
   "source": [
    "meanReturns = returns.mean()\n",
    "num_stocks = stocks.shape[1]\n",
    "covMatrix = returns.cov()\n",
    "weights = np.array([0.40, 0.30, 0.30])\n",
    "mc_sims = 100\n",
    "T = 252 # time frame in days\n",
    "portfolio_value = 1000000\n",
    "meanM = np.full(shape=(T, num_stocks), fill_value=meanReturns)\n",
    "meanM = meanM.T\n",
    "simulated_portfolio_returns = np.full(shape = (T, mc_sims), fill_value=0.0)\n",
    "\n",
    "for m in range(0, mc_sims):\n",
    "    Z = np.random.normal(size = (T, num_stocks))\n",
    "    L = np.linalg.cholesky(covMatrix)\n",
    "    dailyReturns = meanM + L @ Z.T # l - 3*3 , z = Time*3\n",
    "    simulated_portfolio_returns[:,m] = np.inner(weights, dailyReturns.T)\n",
    "    \n",
    "simulated_portfolio_returns = pd.DataFrame(simulated_portfolio_returns)\n"
   ]
  },
  {
   "cell_type": "code",
   "execution_count": 122,
   "metadata": {
    "collapsed": true
   },
   "outputs": [],
   "source": [
    "total_portfolio = 1000000\n",
    "var99 = [round(np.percentile(simulated_portfolio_returns.iloc[:,i],1) * total_portfolio,0) for i in range(100)]\n",
    "var95 = [round(np.percentile(simulated_portfolio_returns.iloc[:,i],5) * total_portfolio,0) for i in range(100)]\n",
    "var90 = [round(np.percentile(simulated_portfolio_returns.iloc[:,i],10) * total_portfolio,0) for i in range(100)]\n",
    "\n",
    "Cvar99 = [round(np.mean(simulated_portfolio_returns.iloc[:,i][simulated_portfolio_returns.iloc[:,i] < np.percentile(simulated_portfolio_returns.iloc[:,i],1)]) * total_portfolio,0) for i in range(100)]\n",
    "\n",
    "Cvar95 = [round(np.mean(simulated_portfolio_returns.iloc[:,i][simulated_portfolio_returns.iloc[:,i] < np.percentile(simulated_portfolio_returns.iloc[:,i],5)]) * total_portfolio,0) for i in range(100)]\n",
    "\n",
    "Cvar90 = [round(np.mean(simulated_portfolio_returns.iloc[:,i][simulated_portfolio_returns.iloc[:,i] < np.percentile(simulated_portfolio_returns.iloc[:,i],10)]) * total_portfolio,0) for i in range(100)]"
   ]
  },
  {
   "cell_type": "code",
   "execution_count": 123,
   "metadata": {
    "collapsed": true
   },
   "outputs": [],
   "source": [
    "def summary_statistics(var):\n",
    "    return {\n",
    "        \"Mean\" : np.mean(var),\n",
    "        \"Max\" : max(var),\n",
    "        \"Min\" : min(var)\n",
    "    }"
   ]
  },
  {
   "cell_type": "code",
   "execution_count": 124,
   "metadata": {},
   "outputs": [
    {
     "data": {
      "text/plain": [
       "{'Max': -25722.0, 'Mean': -34085.29, 'Min': -44658.0}"
      ]
     },
     "execution_count": 124,
     "metadata": {},
     "output_type": "execute_result"
    }
   ],
   "source": [
    "summary_statistics(var99)"
   ]
  },
  {
   "cell_type": "code",
   "execution_count": 125,
   "metadata": {},
   "outputs": [
    {
     "data": {
      "text/plain": [
       "{'Max': -19281.0, 'Mean': -24435.38, 'Min': -29964.0}"
      ]
     },
     "execution_count": 125,
     "metadata": {},
     "output_type": "execute_result"
    }
   ],
   "source": [
    "summary_statistics(var95)"
   ]
  },
  {
   "cell_type": "code",
   "execution_count": 126,
   "metadata": {},
   "outputs": [
    {
     "data": {
      "text/plain": [
       "{'Max': -14762.0, 'Mean': -18840.28, 'Min': -24289.0}"
      ]
     },
     "execution_count": 126,
     "metadata": {},
     "output_type": "execute_result"
    }
   ],
   "source": [
    "summary_statistics(var90)"
   ]
  },
  {
   "cell_type": "code",
   "execution_count": 127,
   "metadata": {},
   "outputs": [
    {
     "data": {
      "text/plain": [
       "{'Max': -21189.0, 'Mean': -26011.59, 'Min': -32224.0}"
      ]
     },
     "execution_count": 127,
     "metadata": {},
     "output_type": "execute_result"
    }
   ],
   "source": [
    "summary_statistics(Cvar90)"
   ]
  },
  {
   "cell_type": "code",
   "execution_count": 128,
   "metadata": {},
   "outputs": [
    {
     "data": {
      "text/plain": [
       "{'Max': -25392.0, 'Mean': -30709.27, 'Min': -39025.0}"
      ]
     },
     "execution_count": 128,
     "metadata": {},
     "output_type": "execute_result"
    }
   ],
   "source": [
    "summary_statistics(Cvar95)"
   ]
  },
  {
   "cell_type": "code",
   "execution_count": 129,
   "metadata": {},
   "outputs": [
    {
     "data": {
      "text/plain": [
       "{'Max': -29077.0, 'Mean': -38694.63, 'Min': -54694.0}"
      ]
     },
     "execution_count": 129,
     "metadata": {},
     "output_type": "execute_result"
    }
   ],
   "source": [
    "summary_statistics(Cvar99)"
   ]
  },
  {
   "cell_type": "code",
   "execution_count": null,
   "metadata": {
    "collapsed": true
   },
   "outputs": [],
   "source": []
  },
  {
   "cell_type": "code",
   "execution_count": null,
   "metadata": {
    "collapsed": true
   },
   "outputs": [],
   "source": []
  }
 ],
 "metadata": {
  "kernelspec": {
   "display_name": "Python 3",
   "language": "python",
   "name": "python3"
  },
  "language_info": {
   "codemirror_mode": {
    "name": "ipython",
    "version": 3
   },
   "file_extension": ".py",
   "mimetype": "text/x-python",
   "name": "python",
   "nbconvert_exporter": "python",
   "pygments_lexer": "ipython3",
   "version": "3.5.4"
  }
 },
 "nbformat": 4,
 "nbformat_minor": 2
}
